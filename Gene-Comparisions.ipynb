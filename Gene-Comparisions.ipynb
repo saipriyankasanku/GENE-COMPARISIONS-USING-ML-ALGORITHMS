{
 "cells": [
  {
   "cell_type": "code",
   "execution_count": 1,
   "metadata": {},
   "outputs": [
    {
     "name": "stderr",
     "output_type": "stream",
     "text": [
      "c:\\Users\\karav\\AppData\\Local\\Programs\\Python\\Python39\\lib\\site-packages\\numpy\\_distributor_init.py:30: UserWarning: loaded more than 1 DLL from .libs:\n",
      "c:\\Users\\karav\\AppData\\Local\\Programs\\Python\\Python39\\lib\\site-packages\\numpy\\.libs\\libopenblas64__v0.3.21-gcc_10_3_0.dll\n",
      "c:\\Users\\karav\\AppData\\Local\\Programs\\Python\\Python39\\lib\\site-packages\\numpy\\.libs\\libopenblas64__v0.3.23-246-g3d31191b-gcc_10_3_0.dll\n",
      "  warnings.warn(\"loaded more than 1 DLL from .libs:\"\n"
     ]
    }
   ],
   "source": [
    "import pandas as pd\n",
    "from sklearn.cross_decomposition import PLSRegression\n",
    "from sklearn.model_selection import train_test_split,cross_val_score, cross_val_predict\n",
    "from sklearn.linear_model import LogisticRegression\n",
    "from sklearn.discriminant_analysis import LinearDiscriminantAnalysis, QuadraticDiscriminantAnalysis\n",
    "from sklearn.svm import SVC\n",
    "from sklearn.cross_decomposition import PLSRegression\n",
    "from sklearn.metrics import accuracy_score\n",
    "from sklearn.decomposition import PCA"
   ]
  },
  {
   "cell_type": "code",
   "execution_count": 2,
   "metadata": {},
   "outputs": [],
   "source": [
    "raw_counts = pd.read_csv(r'D:\\Personal\\Academics\\UTA\\3rd semester\\Bioinformatics\\Project\\normalized_counts_vst.csv', index_col=0)\n",
    "raw_counts = raw_counts.T"
   ]
  },
  {
   "cell_type": "code",
   "execution_count": 3,
   "metadata": {},
   "outputs": [],
   "source": [
    "metadata_file = r\"D:\\Personal\\Academics\\UTA\\3rd semester\\Bioinformatics\\Project\\metadata.csv\" \n",
    "metadata = pd.read_csv(metadata_file, sep=',')"
   ]
  },
  {
   "cell_type": "code",
   "execution_count": 4,
   "metadata": {},
   "outputs": [],
   "source": [
    "df = pd.merge(raw_counts, metadata, left_index=True, right_on='Sample_ID')\n",
    "df = df.drop(['Sample_ID','Clade', 'Dominant' ],axis=1)"
   ]
  },
  {
   "cell_type": "code",
   "execution_count": 5,
   "metadata": {},
   "outputs": [],
   "source": [
    "df['Host'] = (df['Host']=='OANN').astype(int)"
   ]
  },
  {
   "cell_type": "code",
   "execution_count": 6,
   "metadata": {},
   "outputs": [],
   "source": [
    "y = df['Host']\n",
    "X = df.drop(['Host'],axis=1)"
   ]
  },
  {
   "cell_type": "code",
   "execution_count": 7,
   "metadata": {},
   "outputs": [],
   "source": [
    "X_train, X_test, y_train, y_test = train_test_split(X, y, test_size=0.2,stratify=y, random_state=41)"
   ]
  },
  {
   "cell_type": "code",
   "execution_count": 8,
   "metadata": {},
   "outputs": [
    {
     "name": "stdout",
     "output_type": "stream",
     "text": [
      "Partial Least Square Cross-validated Accuracy: 0.90625\n",
      "Partial Least Square Test Set Accuracy: 0.8888888888888888\n"
     ]
    }
   ],
   "source": [
    "pls = PLSRegression(n_components=10) \n",
    "y_pred_cv = cross_val_predict(pls, X_train, y_train, cv=5)\n",
    "threshold = 0.5 \n",
    "y_pred_cv = (y_pred_cv > threshold).astype(int)\n",
    "cv_accuracy = accuracy_score(y_train, y_pred_cv)\n",
    "print(\"Partial Least Square Cross-validated Accuracy:\", cv_accuracy)\n",
    "pls.fit(X_train, y_train)\n",
    "y_pred = pls.predict(X_test)\n",
    "threshold = 0.5\n",
    "y_pred_binary = (y_pred > threshold).astype(int)\n",
    "test_accuracy = accuracy_score(y_test, y_pred_binary)\n",
    "print(\"Partial Least Square Test Set Accuracy:\", test_accuracy)"
   ]
  },
  {
   "cell_type": "code",
   "execution_count": 9,
   "metadata": {},
   "outputs": [
    {
     "name": "stdout",
     "output_type": "stream",
     "text": [
      "Logistic Regression Cross-validated Accuracy: 0.9380952380952381\n",
      "Logistic Regression Test Set Accuracy: 1.0\n"
     ]
    }
   ],
   "source": [
    "lr = LogisticRegression(max_iter=1000)\n",
    "cv_scores = cross_val_score(lr, X_train, y_train, cv=5, scoring='accuracy')\n",
    "print(\"Logistic Regression Cross-validated Accuracy:\", cv_scores.mean())\n",
    "lr.fit(X_train, y_train)\n",
    "y_pred = lr.predict(X_test)\n",
    "test_accuracy = accuracy_score(y_test, y_pred)\n",
    "print(\"Logistic Regression Test Set Accuracy:\", test_accuracy)"
   ]
  },
  {
   "cell_type": "code",
   "execution_count": 10,
   "metadata": {},
   "outputs": [
    {
     "name": "stdout",
     "output_type": "stream",
     "text": [
      "Support Vector Machine Cross-validated Accuracy: 0.9380952380952381\n",
      "Support Vector Machine Test Set Accuracy: 0.8888888888888888\n"
     ]
    }
   ],
   "source": [
    "svm = SVC(kernel='poly',degree=5)\n",
    "cv_scores = cross_val_score(svm, X_train, y_train, cv=5, scoring='accuracy')\n",
    "print(\"Support Vector Machine Cross-validated Accuracy:\", cv_scores.mean())\n",
    "svm.fit(X_train, y_train)\n",
    "y_pred = svm.predict(X_test)\n",
    "test_accuracy = accuracy_score(y_test, y_pred)\n",
    "print(\"Support Vector Machine Test Set Accuracy:\", test_accuracy)"
   ]
  },
  {
   "cell_type": "code",
   "execution_count": 11,
   "metadata": {},
   "outputs": [
    {
     "name": "stdout",
     "output_type": "stream",
     "text": [
      "Linear Discrimiant Analysis Cross-validated Accuracy: 0.8761904761904763\n",
      "Linear Discrimiant Analysis Test Set Accuracy: 1.0\n"
     ]
    }
   ],
   "source": [
    "lda = LinearDiscriminantAnalysis()\n",
    "cv_scores = cross_val_score(lda, X_train, y_train, cv=5, scoring='accuracy')\n",
    "print(\"Linear Discrimiant Analysis Cross-validated Accuracy:\", cv_scores.mean())\n",
    "lda.fit(X_train, y_train)\n",
    "y_pred = lda.predict(X_test)\n",
    "test_accuracy = accuracy_score(y_test, y_pred)\n",
    "print(\"Linear Discrimiant Analysis Test Set Accuracy:\", test_accuracy)"
   ]
  },
  {
   "cell_type": "code",
   "execution_count": 12,
   "metadata": {},
   "outputs": [
    {
     "name": "stdout",
     "output_type": "stream",
     "text": [
      "Quadratic Discrimiant Analysis Cross-validated Accuracy: 0.7190476190476189\n",
      "Quadratic Discrimiant Analysis Test Set Accuracy: 0.7777777777777778\n"
     ]
    },
    {
     "name": "stderr",
     "output_type": "stream",
     "text": [
      "c:\\Users\\karav\\AppData\\Local\\Programs\\Python\\Python39\\lib\\site-packages\\sklearn\\discriminant_analysis.py:926: UserWarning: Variables are collinear\n",
      "  warnings.warn(\"Variables are collinear\")\n",
      "c:\\Users\\karav\\AppData\\Local\\Programs\\Python\\Python39\\lib\\site-packages\\sklearn\\discriminant_analysis.py:926: UserWarning: Variables are collinear\n",
      "  warnings.warn(\"Variables are collinear\")\n",
      "c:\\Users\\karav\\AppData\\Local\\Programs\\Python\\Python39\\lib\\site-packages\\sklearn\\discriminant_analysis.py:926: UserWarning: Variables are collinear\n",
      "  warnings.warn(\"Variables are collinear\")\n",
      "c:\\Users\\karav\\AppData\\Local\\Programs\\Python\\Python39\\lib\\site-packages\\sklearn\\discriminant_analysis.py:926: UserWarning: Variables are collinear\n",
      "  warnings.warn(\"Variables are collinear\")\n",
      "c:\\Users\\karav\\AppData\\Local\\Programs\\Python\\Python39\\lib\\site-packages\\sklearn\\discriminant_analysis.py:926: UserWarning: Variables are collinear\n",
      "  warnings.warn(\"Variables are collinear\")\n",
      "c:\\Users\\karav\\AppData\\Local\\Programs\\Python\\Python39\\lib\\site-packages\\sklearn\\discriminant_analysis.py:926: UserWarning: Variables are collinear\n",
      "  warnings.warn(\"Variables are collinear\")\n"
     ]
    }
   ],
   "source": [
    "qda = QuadraticDiscriminantAnalysis()\n",
    "n_components = min(X_train.shape[0], X_train.shape[1]) \n",
    "pca = PCA(n_components=10)  # Adjust the number of components as needed\n",
    "X_train_pca = pca.fit_transform(X_train)\n",
    "X_test_pca = pca.transform(X_test)\n",
    "cv_scores = cross_val_score(qda, X_train_pca, y_train, cv=5, scoring='accuracy')\n",
    "print(\"Quadratic Discrimiant Analysis Cross-validated Accuracy:\", cv_scores.mean())\n",
    "qda.fit(X_train_pca, y_train)\n",
    "y_pred = qda.predict(X_test_pca)\n",
    "test_accuracy = accuracy_score(y_test, y_pred)\n",
    "print(\"Quadratic Discrimiant Analysis Test Set Accuracy:\", test_accuracy)"
   ]
  }
 ],
 "metadata": {
  "kernelspec": {
   "display_name": "Python 3",
   "language": "python",
   "name": "python3"
  },
  "language_info": {
   "codemirror_mode": {
    "name": "ipython",
    "version": 3
   },
   "file_extension": ".py",
   "mimetype": "text/x-python",
   "name": "python",
   "nbconvert_exporter": "python",
   "pygments_lexer": "ipython3",
   "version": "3.9.13"
  }
 },
 "nbformat": 4,
 "nbformat_minor": 2
}
